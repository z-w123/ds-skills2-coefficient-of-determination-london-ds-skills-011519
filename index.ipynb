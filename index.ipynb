{
 "cells": [
  {
   "cell_type": "markdown",
   "metadata": {},
   "source": [
    "# Coefficient of Determination\n",
    "\n",
    "## Introduction\n",
    "For linear regression analysis, as we saw earlier, the straight does not **fully** describe the relationship between variables and there is always some error. In order to determine the \"goodness of fit** of the fitted line, we need some measure to show the predictive performance of the model. In this lesson, we shall look at R<sup>2</sup> (pronounced r squared) as a coefficient of determination for our fitted model.\n",
    "\n",
    "## Objectives\n",
    "You will be able to:\n",
    "\n",
    "* Describe squared error as means to identify the difference between predicted and actual values\n",
    "\n",
    "* Calculate the coefficient of deteremination (R-squared) for a given regression line"
   ]
  },
  {
   "cell_type": "markdown",
   "metadata": {},
   "source": [
    "## R-Squared\n",
    "> **R-squared or coefficient of determination is a statistical measure that is used to assess the goodness of fit of a regression model.**\n",
    "\n",
    "Here is how it works. R-squared uses a baseline model which is the **worst** model. This baseline model does not make use of any independent variables to predict the value of dependent variable Y. Instead it uses the **mean** of the observed responses of dependent variable Y and always predicts this mean as the value of Y. Pretty silly ! well thats why its the WORST model. \n",
    "\n",
    "<img src=\"r4.png\" width=400>\n",
    "\n",
    "The red line in the above figure is the baseline model that always predicts mean of Y as the value of Y **irrespective** of the value of the independent variables. The green line is our fitted model which makes use of X values to predict the values of Y. Looking at the plot above , R-squared simply asks the question:\n",
    "\n",
    ">**Can you do better than the baseline ?**\n",
    "\n",
    "Any regression model that we fit is compared to this baseline model to understand it’s **goodness of fit**. Simply put, R-squared just explains how good is your model when compared to the baseline model. Thats about it. "
   ]
  },
  {
   "cell_type": "markdown",
   "metadata": {},
   "source": [
    "#### Great, so how do I calculate R-squared ?"
   ]
  },
  {
   "cell_type": "markdown",
   "metadata": {},
   "source": [
    "The mathematical formula to calculate R-squared for a linear regression line is in terms of **squared errors** for the fitted model and the baseline model. It's calculated as :\n",
    "\n",
    "![](rs2.png)"
   ]
  },
  {
   "cell_type": "markdown",
   "metadata": {},
   "source": [
    "* SS<sub>RES</sub> is the **residual** sum of squared errors of our regression model also known as **SSE** (Sum of Squared Errors). It is the error between real and predicted values. \n",
    "\n",
    "* SS<sub>TOT</sub> i.e. the difference between real and mean y values. **Total** sum of squared error , calculated from the baseline model. This is also known as **SST** (Sum pf Squared Total)\n",
    "\n",
    "Below is a graphical depiction of these errors and how R2 is calculated from these. \n",
    "\n"
   ]
  },
  {
   "cell_type": "markdown",
   "metadata": {},
   "source": [
    "<img src=\"rs3.jpg\" width=400>"
   ]
  },
  {
   "cell_type": "markdown",
   "metadata": {},
   "source": [
    "#### And how do we interpret the outcome of R<sup>2</sup>\n",
    "\n",
    "Our worst possible regression model could be the baseline model itself .Hence SSE would be equal to SST looking at the graph above. Hence our R_squared value will become 0. Look at the plot below: \n",
    "\n",
    "![](rs5.gif)"
   ]
  },
  {
   "cell_type": "markdown",
   "metadata": {},
   "source": [
    "Due to this particular shape of the distribution, the regression line (y_hat) is same as the mean line for (y_bar). And this would result as 0. A regression model cant get any worse than this. \n",
    "\n",
    "Similarly, the best model would be the one that fits all the data points perfectly so SSE in this case would be 0. R-squared = 1–0 = 1 which indicates a perfect model. Below is an example of this (although this would rarely happen with real world data).\n",
    "\n",
    "<img src=\"rs6.jpg\" width=400>"
   ]
  },
  {
   "cell_type": "markdown",
   "metadata": {},
   "source": [
    "> **R-squared can take value between 0 and 1 where values closer to 0 represent a poor fit and values closer to 1 represent a perfect fit**"
   ]
  },
  {
   "cell_type": "markdown",
   "metadata": {},
   "source": [
    "#### Phrasing R_squared values \n",
    "\n",
    "An obtained R-squared value of say 0.85 can be put into a statement as \n",
    "\n",
    "> ***85% variations in dependent variable Y is explained by the independent variable present in our model.***"
   ]
  },
  {
   "cell_type": "markdown",
   "metadata": {},
   "source": [
    "## Summary \n",
    "In this lesson, we looked at the R-squared, co-efficient of determination to evaluate the goodness of fit for a regression line. We saw how R-squared is calculated by comparing a given model to a baseline model and indicating it with values between 0 and 1. In the next lab, we shall move on to calculating R-squared in python. "
   ]
  }
 ],
 "metadata": {
  "kernelspec": {
   "display_name": "Python 3",
   "language": "python",
   "name": "python3"
  },
  "language_info": {
   "codemirror_mode": {
    "name": "ipython",
    "version": 3
   },
   "file_extension": ".py",
   "mimetype": "text/x-python",
   "name": "python",
   "nbconvert_exporter": "python",
   "pygments_lexer": "ipython3",
   "version": "3.6.6"
  }
 },
 "nbformat": 4,
 "nbformat_minor": 2
}
